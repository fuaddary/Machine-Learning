{
 "cells": [
  {
   "cell_type": "markdown",
   "metadata": {},
   "source": [
    "## Implementation of paper \n",
    "\n",
    "> \"Modified Convolutional Neural Network Architecture Analysis for Facial Emotion Recognition\"\n",
    "\n",
    "1. Dataset : Fashion MNIST (70000 records with 10 classes)\n",
    "2. Library : Keras (Tensor Flow)\n",
    "3. Method  : CNN"
   ]
  },
  {
   "cell_type": "markdown",
   "metadata": {},
   "source": [
    "## 1.  Loading Dataset & Preprocess"
   ]
  },
  {
   "cell_type": "code",
   "execution_count": 1,
   "metadata": {},
   "outputs": [
    {
     "name": "stderr",
     "output_type": "stream",
     "text": [
      "Using TensorFlow backend.\n"
     ]
    }
   ],
   "source": [
    "from keras.datasets import fashion_mnist"
   ]
  },
  {
   "cell_type": "code",
   "execution_count": 2,
   "metadata": {},
   "outputs": [],
   "source": [
    "(train_X,train_Y), (test_X,test_Y) = fashion_mnist.load_data()"
   ]
  },
  {
   "cell_type": "code",
   "execution_count": 3,
   "metadata": {},
   "outputs": [
    {
     "name": "stdout",
     "output_type": "stream",
     "text": [
      "Training data shape :  (60000, 28, 28) (60000,)\n",
      "Testing data shape :  (10000, 28, 28) (10000,)\n"
     ]
    }
   ],
   "source": [
    "import numpy as np\n",
    "from keras.utils import to_categorical\n",
    "import matplotlib.pyplot as plt\n",
    "%matplotlib inline\n",
    "\n",
    "print('Training data shape : ', train_X.shape, train_Y.shape)\n",
    "\n",
    "print('Testing data shape : ', test_X.shape, test_Y.shape)"
   ]
  },
  {
   "cell_type": "code",
   "execution_count": 4,
   "metadata": {},
   "outputs": [
    {
     "name": "stdout",
     "output_type": "stream",
     "text": [
      "Total number of outputs :  10\n",
      "Output classes :  [0 1 2 3 4 5 6 7 8 9]\n"
     ]
    }
   ],
   "source": [
    "# Find the unique numbers from the train labels\n",
    "classes = np.unique(train_Y)\n",
    "nClasses = len(classes)\n",
    "print('Total number of outputs : ', nClasses)\n",
    "print('Output classes : ', classes)"
   ]
  },
  {
   "cell_type": "code",
   "execution_count": 5,
   "metadata": {},
   "outputs": [
    {
     "data": {
      "text/plain": [
       "Text(0.5, 1.0, 'Ground Truth : 9')"
      ]
     },
     "execution_count": 5,
     "metadata": {},
     "output_type": "execute_result"
    },
    {
     "data": {
      "image/png": "[encoded data removed]",
      "text/plain": [
       "<Figure size 360x360 with 2 Axes>"
      ]
     },
     "metadata": {
      "needs_background": "light"
     },
     "output_type": "display_data"
    }
   ],
   "source": [
    "plt.figure(figsize=[5,5])\n",
    "\n",
    "# Display the first image in training data\n",
    "plt.subplot(121)\n",
    "plt.imshow(train_X[0,:,:], cmap='gray')\n",
    "plt.title(\"Ground Truth : {}\".format(train_Y[0]))\n",
    "\n",
    "# Display the first image in testing data\n",
    "plt.subplot(122)\n",
    "plt.imshow(test_X[0,:,:], cmap='gray')\n",
    "plt.title(\"Ground Truth : {}\".format(test_Y[0]))"
   ]
  },
  {
   "cell_type": "code",
   "execution_count": 6,
   "metadata": {},
   "outputs": [
    {
     "data": {
      "text/plain": [
       "((60000, 28, 28, 1), (10000, 28, 28, 1))"
      ]
     },
     "execution_count": 6,
     "metadata": {},
     "output_type": "execute_result"
    }
   ],
   "source": [
    "train_X = train_X.reshape(-1, 28,28, 1)\n",
    "test_X = test_X.reshape(-1, 28,28, 1)\n",
    "train_X.shape, test_X.shape"
   ]
  },
  {
   "cell_type": "code",
   "execution_count": 7,
   "metadata": {},
   "outputs": [],
   "source": [
    "train_X = train_X.astype('float32')\n",
    "test_X = test_X.astype('float32')\n",
    "train_X = train_X / 255.\n",
    "test_X = test_X / 255."
   ]
  },
  {
   "cell_type": "code",
   "execution_count": 8,
   "metadata": {},
   "outputs": [
    {
     "name": "stdout",
     "output_type": "stream",
     "text": [
      "Original label: 9\n",
      "After conversion to one-hot: [0. 0. 0. 0. 0. 0. 0. 0. 0. 1.]\n"
     ]
    }
   ],
   "source": [
    "# Change the labels from categorical to one-hot encoding\n",
    "train_Y_one_hot = to_categorical(train_Y)\n",
    "test_Y_one_hot = to_categorical(test_Y)\n",
    "\n",
    "# Display the change for category label using one-hot encoding\n",
    "print('Original label:', train_Y[0])\n",
    "print('After conversion to one-hot:', train_Y_one_hot[0])"
   ]
  },
  {
   "cell_type": "code",
   "execution_count": 9,
   "metadata": {},
   "outputs": [],
   "source": [
    "from sklearn.model_selection import train_test_split\n",
    "train_X,valid_X,train_label,valid_label = train_test_split(train_X, train_Y_one_hot, test_size=0.2, random_state=13)"
   ]
  },
  {
   "cell_type": "code",
   "execution_count": 10,
   "metadata": {},
   "outputs": [
    {
     "data": {
      "text/plain": [
       "((48000, 28, 28, 1), (12000, 28, 28, 1), (48000, 10), (12000, 10))"
      ]
     },
     "execution_count": 10,
     "metadata": {},
     "output_type": "execute_result"
    }
   ],
   "source": [
    "train_X.shape,valid_X.shape,train_label.shape,valid_label.shape"
   ]
  },
  {
   "cell_type": "code",
   "execution_count": 11,
   "metadata": {},
   "outputs": [],
   "source": [
    "import keras\n",
    "from keras.models import Sequential,Input,Model\n",
    "from keras.layers import Dense, Dropout, Flatten\n",
    "from keras.layers import Conv2D, MaxPooling2D\n",
    "from keras.layers.normalization import BatchNormalization\n",
    "from keras.layers.advanced_activations import LeakyReLU"
   ]
  },
  {
   "cell_type": "code",
   "execution_count": 12,
   "metadata": {},
   "outputs": [],
   "source": [
    "batch_size = 64\n",
    "epochs = 10\n",
    "num_classes = 10"
   ]
  },
  {
   "cell_type": "markdown",
   "metadata": {},
   "source": [
    "## Creating Model\n",
    "![flow](img/Flow.png)\n",
    "\n",
    "### Fully Connected Layer Architectures\n",
    "\n",
    "1. Rectangular Model\n",
    "2. Modified Triangular Model\n",
    "3. Ventury Model"
   ]
  },
  {
   "cell_type": "markdown",
   "metadata": {},
   "source": [
    "## Rectangular architecture\n",
    "\n",
    "![rectangular](img/rectangular.png)"
   ]
  },
  {
   "cell_type": "code",
   "execution_count": 15,
   "metadata": {},
   "outputs": [
    {
     "name": "stdout",
     "output_type": "stream",
     "text": [
      "Model: \"sequential_2\"\n",
      "_________________________________________________________________\n",
      "Layer (type)                 Output Shape              Param #   \n",
      "=================================================================\n",
      "conv2d_3 (Conv2D)            (None, 28, 28, 32)        320       \n",
      "_________________________________________________________________\n",
      "max_pooling2d_3 (MaxPooling2 (None, 7, 7, 32)          0         \n",
      "_________________________________________________________________\n",
      "conv2d_4 (Conv2D)            (None, 7, 7, 64)          18496     \n",
      "_________________________________________________________________\n",
      "max_pooling2d_4 (MaxPooling2 (None, 4, 4, 64)          0         \n",
      "_________________________________________________________________\n",
      "flatten_2 (Flatten)          (None, 1024)              0         \n",
      "_________________________________________________________________\n",
      "dense_9 (Dense)              (None, 256)               262400    \n",
      "_________________________________________________________________\n",
      "dense_10 (Dense)             (None, 256)               65792     \n",
      "_________________________________________________________________\n",
      "dense_11 (Dense)             (None, 256)               65792     \n",
      "_________________________________________________________________\n",
      "dense_12 (Dense)             (None, 256)               65792     \n",
      "_________________________________________________________________\n",
      "dense_13 (Dense)             (None, 256)               65792     \n",
      "_________________________________________________________________\n",
      "dense_14 (Dense)             (None, 256)               65792     \n",
      "_________________________________________________________________\n",
      "dense_15 (Dense)             (None, 10)                2570      \n",
      "=================================================================\n",
      "Total params: 612,746\n",
      "Trainable params: 612,746\n",
      "Non-trainable params: 0\n",
      "_________________________________________________________________\n"
     ]
    }
   ],
   "source": [
    "#Rectangular architecture\n",
    "\n",
    "rectangular_model = Sequential()\n",
    "\n",
    "rectangular_model.add(Conv2D(32, kernel_size=(3,3), padding=\"same\", activation=\"relu\", input_shape=(28,28,1)))\n",
    "rectangular_model.add(MaxPooling2D((4, 4),padding='same'))\n",
    "rectangular_model.add(Conv2D(64, kernel_size=(3,3), padding=\"same\", activation=\"relu\", input_shape=(28,28,1)))\n",
    "rectangular_model.add(MaxPooling2D((2, 2),padding='same'))\n",
    "rectangular_model.add(Flatten())\n",
    "\n",
    "rectangular_model.add(Dense(256, activation='relu'))\n",
    "rectangular_model.add(Dense(256, activation='relu'))                  \n",
    "rectangular_model.add(Dense(256, activation='relu'))                  \n",
    "rectangular_model.add(Dense(256, activation='relu'))                  \n",
    "rectangular_model.add(Dense(256, activation='relu'))                  \n",
    "rectangular_model.add(Dense(256, activation='relu'))                                \n",
    "rectangular_model.add(Dense(num_classes, activation='softmax'))\n",
    "\n",
    "rectangular_model.summary()"
   ]
  },
  {
   "cell_type": "code",
   "execution_count": 16,
   "metadata": {},
   "outputs": [
    {
     "name": "stdout",
     "output_type": "stream",
     "text": [
      "Train on 48000 samples, validate on 12000 samples\n",
      "Epoch 1/10\n",
      "48000/48000 [==============================] - 39s 821us/step - loss: 0.5943 - accuracy: 0.7677 - val_loss: 0.4243 - val_accuracy: 0.8468\n",
      "Epoch 2/10\n",
      "48000/48000 [==============================] - 33s 691us/step - loss: 0.3632 - accuracy: 0.8660 - val_loss: 0.3522 - val_accuracy: 0.8733\n",
      "Epoch 3/10\n",
      "48000/48000 [==============================] - 33s 694us/step - loss: 0.2952 - accuracy: 0.8939 - val_loss: 0.3080 - val_accuracy: 0.8928\n",
      "Epoch 4/10\n",
      "48000/48000 [==============================] - 33s 694us/step - loss: 0.2640 - accuracy: 0.9039 - val_loss: 0.2831 - val_accuracy: 0.8998\n",
      "Epoch 5/10\n",
      "48000/48000 [==============================] - 33s 690us/step - loss: 0.2364 - accuracy: 0.9145 - val_loss: 0.2779 - val_accuracy: 0.9093\n",
      "Epoch 6/10\n",
      "48000/48000 [==============================] - 33s 690us/step - loss: 0.2183 - accuracy: 0.9210 - val_loss: 0.2719 - val_accuracy: 0.9017\n",
      "Epoch 7/10\n",
      "48000/48000 [==============================] - 33s 691us/step - loss: 0.2056 - accuracy: 0.9243 - val_loss: 0.2707 - val_accuracy: 0.9113\n",
      "Epoch 8/10\n",
      "48000/48000 [==============================] - 33s 696us/step - loss: 0.1897 - accuracy: 0.9302 - val_loss: 0.2597 - val_accuracy: 0.9103\n",
      "Epoch 9/10\n",
      "48000/48000 [==============================] - 33s 692us/step - loss: 0.1802 - accuracy: 0.9335 - val_loss: 0.2480 - val_accuracy: 0.9164\n",
      "Epoch 10/10\n",
      "48000/48000 [==============================] - 33s 692us/step - loss: 0.1654 - accuracy: 0.9392 - val_loss: 0.2586 - val_accuracy: 0.9113\n"
     ]
    }
   ],
   "source": [
    "rectangular_model.compile(loss=keras.losses.categorical_crossentropy, optimizer=keras.optimizers.Adam(),metrics=['accuracy'])\n",
    "rectangular_train = rectangular_model.fit(train_X, train_label, batch_size=batch_size,epochs=epochs,verbose=1,validation_data=(valid_X, valid_label))"
   ]
  },
  {
   "cell_type": "code",
   "execution_count": 19,
   "metadata": {},
   "outputs": [
    {
     "name": "stdout",
     "output_type": "stream",
     "text": [
      "Test loss: 0.27746444182395935\n",
      "Test accuracy: 0.9056000113487244\n"
     ]
    }
   ],
   "source": [
    "test_eval_rectangular = rectangular_model.evaluate(test_X, test_Y_one_hot, verbose=0)\n",
    "print('Test loss:', test_eval_rectangular[0])\n",
    "print('Test accuracy:', test_eval_rectangular[1])\n"
   ]
  },
  {
   "cell_type": "code",
   "execution_count": 20,
   "metadata": {},
   "outputs": [
    {
     "data": {
      "image/png": "[encoded data removed]",
      "text/plain": [
       "<Figure size 432x288 with 1 Axes>"
      ]
     },
     "metadata": {
      "needs_background": "light"
     },
     "output_type": "display_data"
    },
    {
     "data": {
      "image/png": "[encoded data removed]",
      "text/plain": [
       "<Figure size 432x288 with 1 Axes>"
      ]
     },
     "metadata": {
      "needs_background": "light"
     },
     "output_type": "display_data"
    }
   ],
   "source": [
    "accuracy = rectangular_train.history['accuracy']\n",
    "val_accuracy = rectangular_train.history['val_accuracy']\n",
    "loss = rectangular_train.history['loss']\n",
    "val_loss = rectangular_train.history['val_loss']\n",
    "epochs = range(len(accuracy))\n",
    "plt.plot(epochs, accuracy, 'bo', label='Training accuracy')\n",
    "plt.plot(epochs, val_accuracy, 'b', label='Validation accuracy')\n",
    "plt.title('Training and validation accuracy')\n",
    "plt.legend()\n",
    "plt.figure()\n",
    "plt.plot(epochs, loss, 'bo', label='Training loss')\n",
    "plt.plot(epochs, val_loss, 'b', label='Validation loss')\n",
    "plt.title('Training and validation loss')\n",
    "plt.legend()\n",
    "plt.show()"
   ]
  },
  {
   "cell_type": "markdown",
   "metadata": {},
   "source": [
    "## triangular architecture\n",
    "\n",
    "![rectangular](img/triangular.png)"
   ]
  },
  {
   "cell_type": "code",
   "execution_count": 13,
   "metadata": {},
   "outputs": [
    {
     "name": "stdout",
     "output_type": "stream",
     "text": [
      "WARNING:tensorflow:From /usr/local/lib/python3.7/site-packages/tensorflow/python/ops/resource_variable_ops.py:435: colocate_with (from tensorflow.python.framework.ops) is deprecated and will be removed in a future version.\n",
      "Instructions for updating:\n",
      "Colocations handled automatically by placer.\n",
      "Model: \"sequential_1\"\n",
      "_________________________________________________________________\n",
      "Layer (type)                 Output Shape              Param #   \n",
      "=================================================================\n",
      "conv2d_1 (Conv2D)            (None, 28, 28, 32)        320       \n",
      "_________________________________________________________________\n",
      "max_pooling2d_1 (MaxPooling2 (None, 7, 7, 32)          0         \n",
      "_________________________________________________________________\n",
      "conv2d_2 (Conv2D)            (None, 7, 7, 64)          18496     \n",
      "_________________________________________________________________\n",
      "max_pooling2d_2 (MaxPooling2 (None, 4, 4, 64)          0         \n",
      "_________________________________________________________________\n",
      "flatten_1 (Flatten)          (None, 1024)              0         \n",
      "_________________________________________________________________\n",
      "dense_1 (Dense)              (None, 256)               262400    \n",
      "_________________________________________________________________\n",
      "dense_2 (Dense)              (None, 512)               131584    \n",
      "_________________________________________________________________\n",
      "dense_3 (Dense)              (None, 256)               131328    \n",
      "_________________________________________________________________\n",
      "dense_4 (Dense)              (None, 128)               32896     \n",
      "_________________________________________________________________\n",
      "dense_5 (Dense)              (None, 64)                8256      \n",
      "_________________________________________________________________\n",
      "dense_6 (Dense)              (None, 32)                2080      \n",
      "_________________________________________________________________\n",
      "dense_7 (Dense)              (None, 16)                528       \n",
      "_________________________________________________________________\n",
      "dense_8 (Dense)              (None, 10)                170       \n",
      "=================================================================\n",
      "Total params: 588,058\n",
      "Trainable params: 588,058\n",
      "Non-trainable params: 0\n",
      "_________________________________________________________________\n"
     ]
    }
   ],
   "source": [
    "#modified triangular architecture\n",
    "\n",
    "triangular_model = Sequential()\n",
    "\n",
    "triangular_model.add(Conv2D(32, kernel_size=(3,3), padding=\"same\", activation=\"relu\", input_shape=(28,28,1)))\n",
    "triangular_model.add(MaxPooling2D((4, 4),padding='same'))\n",
    "triangular_model.add(Conv2D(64, kernel_size=(3,3), padding=\"same\", activation=\"relu\", input_shape=(28,28,1)))\n",
    "triangular_model.add(MaxPooling2D((2, 2),padding='same'))\n",
    "triangular_model.add(Flatten())\n",
    "\n",
    "triangular_model.add(Dense(256, activation='relu'))\n",
    "triangular_model.add(Dense(512, activation='relu'))                  \n",
    "triangular_model.add(Dense(256, activation='relu'))                  \n",
    "triangular_model.add(Dense(128, activation='relu'))                  \n",
    "triangular_model.add(Dense(64, activation='relu'))                  \n",
    "triangular_model.add(Dense(32, activation='relu'))\n",
    "triangular_model.add(Dense(16, activation='relu'))                                      \n",
    "triangular_model.add(Dense(num_classes, activation='softmax'))\n",
    "\n",
    "triangular_model.summary()"
   ]
  },
  {
   "cell_type": "code",
   "execution_count": 14,
   "metadata": {},
   "outputs": [
    {
     "name": "stdout",
     "output_type": "stream",
     "text": [
      "WARNING:tensorflow:From /usr/local/lib/python3.7/site-packages/tensorflow/python/ops/math_ops.py:3066: to_int32 (from tensorflow.python.ops.math_ops) is deprecated and will be removed in a future version.\n",
      "Instructions for updating:\n",
      "Use tf.cast instead.\n",
      "Train on 48000 samples, validate on 12000 samples\n",
      "Epoch 1/10\n",
      "48000/48000 [==============================] - 34s 717us/step - loss: 0.7620 - accuracy: 0.7214 - val_loss: 0.4893 - val_accuracy: 0.8104\n",
      "Epoch 2/10\n",
      "48000/48000 [==============================] - 34s 706us/step - loss: 0.3869 - accuracy: 0.8595 - val_loss: 0.3637 - val_accuracy: 0.8729\n",
      "Epoch 3/10\n",
      "48000/48000 [==============================] - 35s 737us/step - loss: 0.3137 - accuracy: 0.8867 - val_loss: 0.3505 - val_accuracy: 0.8749\n",
      "Epoch 4/10\n",
      "48000/48000 [==============================] - 34s 713us/step - loss: 0.2672 - accuracy: 0.9047 - val_loss: 0.2856 - val_accuracy: 0.8990\n",
      "Epoch 5/10\n",
      "48000/48000 [==============================] - 35s 735us/step - loss: 0.2469 - accuracy: 0.9117 - val_loss: 0.2760 - val_accuracy: 0.9056\n",
      "Epoch 6/10\n",
      "48000/48000 [==============================] - 36s 756us/step - loss: 0.2301 - accuracy: 0.9177 - val_loss: 0.2580 - val_accuracy: 0.9076\n",
      "Epoch 7/10\n",
      "48000/48000 [==============================] - 35s 729us/step - loss: 0.2097 - accuracy: 0.9245 - val_loss: 0.2693 - val_accuracy: 0.9094\n",
      "Epoch 8/10\n",
      "48000/48000 [==============================] - 35s 740us/step - loss: 0.1956 - accuracy: 0.9302 - val_loss: 0.2576 - val_accuracy: 0.9094\n",
      "Epoch 9/10\n",
      "48000/48000 [==============================] - 35s 739us/step - loss: 0.1798 - accuracy: 0.9352 - val_loss: 0.2503 - val_accuracy: 0.9172\n",
      "Epoch 10/10\n",
      "48000/48000 [==============================] - 36s 753us/step - loss: 0.1678 - accuracy: 0.9403 - val_loss: 0.2600 - val_accuracy: 0.9133\n"
     ]
    }
   ],
   "source": [
    "triangular_model.compile(loss=keras.losses.categorical_crossentropy, optimizer=keras.optimizers.Adam(),metrics=['accuracy'])\n",
    "triangular_train = triangular_model.fit(train_X, train_label, batch_size=batch_size,epochs=epochs,verbose=1,validation_data=(valid_X, valid_label))"
   ]
  },
  {
   "cell_type": "code",
   "execution_count": 21,
   "metadata": {},
   "outputs": [
    {
     "name": "stdout",
     "output_type": "stream",
     "text": [
      "Test loss: 0.2706490121662617\n",
      "Test accuracy: 0.9129999876022339\n"
     ]
    }
   ],
   "source": [
    "test_eval_triangular = triangular_model.evaluate(test_X, test_Y_one_hot, verbose=0)\n",
    "print('Test loss:', test_eval_triangular[0])\n",
    "print('Test accuracy:', test_eval_triangular[1])"
   ]
  },
  {
   "cell_type": "code",
   "execution_count": 22,
   "metadata": {},
   "outputs": [
    {
     "data": {
      "image/png": "[encoded data removed]",
      "text/plain": [
       "<Figure size 432x288 with 1 Axes>"
      ]
     },
     "metadata": {
      "needs_background": "light"
     },
     "output_type": "display_data"
    },
    {
     "data": {
      "image/png": "[encoded data removed]",
      "text/plain": [
       "<Figure size 432x288 with 1 Axes>"
      ]
     },
     "metadata": {
      "needs_background": "light"
     },
     "output_type": "display_data"
    }
   ],
   "source": [
    "accuracy = triangular_train.history['accuracy']\n",
    "val_accuracy = triangular_train.history['val_accuracy']\n",
    "loss = triangular_train.history['loss']\n",
    "val_loss = triangular_train.history['val_loss']\n",
    "epochs = range(len(accuracy))\n",
    "plt.plot(epochs, accuracy, 'bo', label='Training accuracy')\n",
    "plt.plot(epochs, val_accuracy, 'b', label='Validation accuracy')\n",
    "plt.title('Training and validation accuracy')\n",
    "plt.legend()\n",
    "plt.figure()\n",
    "plt.plot(epochs, loss, 'bo', label='Training loss')\n",
    "plt.plot(epochs, val_loss, 'b', label='Validation loss')\n",
    "plt.title('Training and validation loss')\n",
    "plt.legend()\n",
    "plt.show()"
   ]
  },
  {
   "cell_type": "markdown",
   "metadata": {},
   "source": [
    "## Ventury architecture\n",
    "\n",
    "![ventury](img/ventury.png)"
   ]
  },
  {
   "cell_type": "code",
   "execution_count": 17,
   "metadata": {},
   "outputs": [
    {
     "name": "stdout",
     "output_type": "stream",
     "text": [
      "Model: \"sequential_3\"\n",
      "_________________________________________________________________\n",
      "Layer (type)                 Output Shape              Param #   \n",
      "=================================================================\n",
      "conv2d_5 (Conv2D)            (None, 28, 28, 32)        320       \n",
      "_________________________________________________________________\n",
      "max_pooling2d_5 (MaxPooling2 (None, 7, 7, 32)          0         \n",
      "_________________________________________________________________\n",
      "conv2d_6 (Conv2D)            (None, 7, 7, 64)          18496     \n",
      "_________________________________________________________________\n",
      "max_pooling2d_6 (MaxPooling2 (None, 4, 4, 64)          0         \n",
      "_________________________________________________________________\n",
      "flatten_3 (Flatten)          (None, 1024)              0         \n",
      "_________________________________________________________________\n",
      "dense_16 (Dense)             (None, 512)               524800    \n",
      "_________________________________________________________________\n",
      "dense_17 (Dense)             (None, 256)               131328    \n",
      "_________________________________________________________________\n",
      "dense_18 (Dense)             (None, 128)               32896     \n",
      "_________________________________________________________________\n",
      "dense_19 (Dense)             (None, 128)               16512     \n",
      "_________________________________________________________________\n",
      "dense_20 (Dense)             (None, 256)               33024     \n",
      "_________________________________________________________________\n",
      "dense_21 (Dense)             (None, 512)               131584    \n",
      "_________________________________________________________________\n",
      "dense_22 (Dense)             (None, 10)                5130      \n",
      "=================================================================\n",
      "Total params: 894,090\n",
      "Trainable params: 894,090\n",
      "Non-trainable params: 0\n",
      "_________________________________________________________________\n"
     ]
    }
   ],
   "source": [
    "#ventury architecture\n",
    "\n",
    "ventury_model = Sequential()\n",
    "\n",
    "ventury_model.add(Conv2D(32, kernel_size=(3,3), padding=\"same\", activation=\"relu\", input_shape=(28,28,1)))\n",
    "ventury_model.add(MaxPooling2D((4, 4),padding='same'))\n",
    "ventury_model.add(Conv2D(64, kernel_size=(3,3), padding=\"same\", activation=\"relu\", input_shape=(28,28,1)))\n",
    "ventury_model.add(MaxPooling2D((2, 2),padding='same'))\n",
    "ventury_model.add(Flatten())\n",
    "\n",
    "ventury_model.add(Dense(512, activation='relu'))\n",
    "ventury_model.add(Dense(256, activation='relu'))                  \n",
    "ventury_model.add(Dense(128, activation='relu'))                  \n",
    "ventury_model.add(Dense(128, activation='relu'))                  \n",
    "ventury_model.add(Dense(256, activation='relu'))                  \n",
    "ventury_model.add(Dense(512, activation='relu'))                      \n",
    "ventury_model.add(Dense(num_classes, activation='softmax'))\n",
    "\n",
    "ventury_model.summary()"
   ]
  },
  {
   "cell_type": "code",
   "execution_count": 18,
   "metadata": {},
   "outputs": [
    {
     "name": "stdout",
     "output_type": "stream",
     "text": [
      "Train on 48000 samples, validate on 12000 samples\n",
      "Epoch 1/10\n",
      "48000/48000 [==============================] - 39s 818us/step - loss: 0.5982 - accuracy: 0.7652 - val_loss: 0.4034 - val_accuracy: 0.8522\n",
      "Epoch 2/10\n",
      "48000/48000 [==============================] - 38s 795us/step - loss: 0.3371 - accuracy: 0.8777 - val_loss: 0.3188 - val_accuracy: 0.8857\n",
      "Epoch 3/10\n",
      "48000/48000 [==============================] - 38s 799us/step - loss: 0.2814 - accuracy: 0.8988 - val_loss: 0.2768 - val_accuracy: 0.8997\n",
      "Epoch 4/10\n",
      "48000/48000 [==============================] - 38s 792us/step - loss: 0.2524 - accuracy: 0.9089 - val_loss: 0.2831 - val_accuracy: 0.8982\n",
      "Epoch 5/10\n",
      "48000/48000 [==============================] - 38s 801us/step - loss: 0.2324 - accuracy: 0.9173 - val_loss: 0.2655 - val_accuracy: 0.9063\n",
      "Epoch 6/10\n",
      "48000/48000 [==============================] - 39s 806us/step - loss: 0.2118 - accuracy: 0.9236 - val_loss: 0.2527 - val_accuracy: 0.9117\n",
      "Epoch 7/10\n",
      "48000/48000 [==============================] - 39s 802us/step - loss: 0.1941 - accuracy: 0.9296 - val_loss: 0.2553 - val_accuracy: 0.9162\n",
      "Epoch 8/10\n",
      "48000/48000 [==============================] - 38s 796us/step - loss: 0.1803 - accuracy: 0.9336 - val_loss: 0.2520 - val_accuracy: 0.9158\n",
      "Epoch 9/10\n",
      "48000/48000 [==============================] - 40s 828us/step - loss: 0.1648 - accuracy: 0.9383 - val_loss: 0.2778 - val_accuracy: 0.9117\n",
      "Epoch 10/10\n",
      "48000/48000 [==============================] - 2812s 59ms/step - loss: 0.1567 - accuracy: 0.9420 - val_loss: 0.2765 - val_accuracy: 0.9118\n"
     ]
    }
   ],
   "source": [
    "ventury_model.compile(loss=keras.losses.categorical_crossentropy, optimizer=keras.optimizers.Adam(),metrics=['accuracy'])\n",
    "ventury_train = ventury_model.fit(train_X, train_label, batch_size=batch_size,epochs=epochs,verbose=1,validation_data=(valid_X, valid_label))"
   ]
  },
  {
   "cell_type": "code",
   "execution_count": 25,
   "metadata": {},
   "outputs": [
    {
     "name": "stdout",
     "output_type": "stream",
     "text": [
      "Test loss: 0.28675496180057525\n",
      "Test accuracy: 0.9110999703407288\n"
     ]
    }
   ],
   "source": [
    "test_eval_ventury = ventury_model.evaluate(test_X, test_Y_one_hot, verbose=0)\n",
    "print('Test loss:', test_eval_ventury[0])\n",
    "print('Test accuracy:', test_eval_ventury[1])"
   ]
  },
  {
   "cell_type": "code",
   "execution_count": 24,
   "metadata": {},
   "outputs": [
    {
     "data": {
      "image/png": "[encoded data removed]",
      "text/plain": [
       "<Figure size 432x288 with 1 Axes>"
      ]
     },
     "metadata": {
      "needs_background": "light"
     },
     "output_type": "display_data"
    },
    {
     "data": {
      "image/png": "[encoded data removed]",
      "text/plain": [
       "<Figure size 432x288 with 1 Axes>"
      ]
     },
     "metadata": {
      "needs_background": "light"
     },
     "output_type": "display_data"
    }
   ],
   "source": [
    "accuracy = ventury_train.history['accuracy']\n",
    "val_accuracy = ventury_train.history['val_accuracy']\n",
    "loss = ventury_train.history['loss']\n",
    "val_loss = ventury_train.history['val_loss']\n",
    "epochs = range(len(accuracy))\n",
    "plt.plot(epochs, accuracy, 'bo', label='Training accuracy')\n",
    "plt.plot(epochs, val_accuracy, 'b', label='Validation accuracy')\n",
    "plt.title('Training and validation accuracy')\n",
    "plt.legend()\n",
    "plt.figure()\n",
    "plt.plot(epochs, loss, 'bo', label='Training loss')\n",
    "plt.plot(epochs, val_loss, 'b', label='Validation loss')\n",
    "plt.title('Training and validation loss')\n",
    "plt.legend()\n",
    "plt.show()"
   ]
  },
  {
   "cell_type": "markdown",
   "metadata": {},
   "source": [
    "# Summary\n",
    "\n",
    "![summary](img/summary.png)"
   ]
  },
  {
   "cell_type": "markdown",
   "metadata": {},
   "source": [
    "## References\n",
    "\n",
    "1. https://www.datacamp.com/community/tutorials/convolutional-neural-networks-python#cnn\n",
    "2. http://www.glc12138.club/libraryweb/data/2019521/Deep%20Learning%20with%20Keras.pdf\n",
    "3. https://medium.com/dataseries/basic-overview-of-convolutional-neural-network-cnn-4fcc7dbb4f17\n",
    "4. https://keras.io/layers/core/\n",
    "\n",
    "## Dataset\n",
    "\n",
    "https://github.com/zalandoresearch/fashion-mnist"
   ]
  }
 ],
 "metadata": {
  "kernelspec": {
   "display_name": "Python 3",
   "language": "python",
   "name": "python3"
  },
  "language_info": {
   "codemirror_mode": {
    "name": "ipython",
    "version": 3
   },
   "file_extension": ".py",
   "mimetype": "text/x-python",
   "name": "python",
   "nbconvert_exporter": "python",
   "pygments_lexer": "ipython3",
   "version": "3.7.4"
  }
 },
 "nbformat": 4,
 "nbformat_minor": 2
}
